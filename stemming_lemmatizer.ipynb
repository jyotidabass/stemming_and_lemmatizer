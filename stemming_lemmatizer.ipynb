{
  "nbformat": 4,
  "nbformat_minor": 0,
  "metadata": {
    "colab": {
      "name": "stemming_lemmatizer.ipynb",
      "provenance": [],
      "authorship_tag": "ABX9TyN5sFVEvev5CiQYtLEqCUKX",
      "include_colab_link": true
    },
    "kernelspec": {
      "name": "python3",
      "display_name": "Python 3"
    },
    "language_info": {
      "name": "python"
    }
  },
  "cells": [
    {
      "cell_type": "markdown",
      "metadata": {
        "id": "view-in-github",
        "colab_type": "text"
      },
      "source": [
        "<a href=\"https://colab.research.google.com/github/jyotidabass/stemming_and_lemmatizer/blob/main/stemming_lemmatizer.ipynb\" target=\"_parent\"><img src=\"https://colab.research.google.com/assets/colab-badge.svg\" alt=\"Open In Colab\"/></a>"
      ]
    },
    {
      "cell_type": "code",
      "source": [
        "import nltk\n",
        "nltk.download('wordnet')\n",
        "from nltk.stem import WordNetLemmatizer\n",
        "from nltk.stem.snowball import SnowballStemmer\n",
        "# initialize lemmatizer\n",
        "lemmatizer = WordNetLemmatizer()\n",
        "# initialize stemmer\n",
        "stemmer = SnowballStemmer(\"english\")\n",
        "words = [\"fishing\", \"fishes\", \"fished\"]\n",
        "for word in words:\n",
        " print(f\"word={word}\")\n",
        " print(f\"stemmed_word={stemmer.stem(word)}\")\n",
        "print(f\"lemma={lemmatizer.lemmatize(word)}\")\n",
        "print(\"\")"
      ],
      "metadata": {
        "colab": {
          "base_uri": "https://localhost:8080/"
        },
        "id": "RKTKnRPEso9N",
        "outputId": "c08ca32c-b560-49cd-e489-9c179749ad25"
      },
      "execution_count": 4,
      "outputs": [
        {
          "output_type": "stream",
          "name": "stdout",
          "text": [
            "[nltk_data] Downloading package wordnet to /root/nltk_data...\n",
            "[nltk_data]   Unzipping corpora/wordnet.zip.\n",
            "word=fishing\n",
            "stemmed_word=fish\n",
            "word=fishes\n",
            "stemmed_word=fish\n",
            "word=fished\n",
            "stemmed_word=fish\n",
            "lemma=fished\n",
            "\n"
          ]
        }
      ]
    }
  ]
}